{
 "cells": [
  {
   "cell_type": "code",
   "execution_count": 2,
   "metadata": {},
   "outputs": [],
   "source": [
    "def read_csv_file(file):\n",
    "    while True:\n",
    "        record = file.readline()\n",
    "        if not record:\n",
    "            break\n",
    "        yield record\n",
    "        "
   ]
  },
  {
   "cell_type": "code",
   "execution_count": 3,
   "metadata": {},
   "outputs": [],
   "source": [
    "# get csv meta data in following dictionary structure\n",
    "\"\"\"\n",
    "{\n",
    "\"cosit_1\":{\n",
    "            records:[\n",
    "                offset_line_1,\n",
    "                offset_line_2,\n",
    "                ..., \n",
    "                ..., \n",
    "                ..., \n",
    "                ..., \n",
    "                offset_line_n] \n",
    "        },\n",
    "\"cosit_2\":{\n",
    "            records:[\n",
    "                offset_line_1,\n",
    "                offset_line_2,\n",
    "                ..., \n",
    "                ..., \n",
    "                ..., \n",
    "                ..., \n",
    "                offset_line_n] \n",
    "        },\n",
    "...,\n",
    "...,\n",
    "...,\n",
    "\n",
    "\"cosit_n\":{\n",
    "            records:[\n",
    "                offset_line_1,\n",
    "                offset_line_2,\n",
    "                ..., \n",
    "                ..., \n",
    "                ..., \n",
    "                ..., \n",
    "                offset_line_n] \n",
    "        }\n",
    "}\n",
    "\n",
    "\"\"\"\n",
    "sites = {}\n",
    "with open('./per-vehicle-records-2020-01-31.csv') as file:\n",
    "    i=0\n",
    "    offset=0\n",
    "    for record in read_csv_file(file):\n",
    "        \n",
    "        cosit = record.split(',')[0]\n",
    "#         ignore header\n",
    "        if(i==0): \n",
    "            i = i+1\n",
    "            offset = offset+len(record)\n",
    "            continue\n",
    "\n",
    "        else:\n",
    "            a = cosit.strip(\"\\\"\").lstrip(\"0\")\n",
    "            if(a in sites.keys()):\n",
    "                sites[a]['records'].append(offset)\n",
    "            else:\n",
    "                sites[a] = {'records': [offset]}\n",
    "            offset = offset+len(record)\n",
    "            i = i+1\n",
    "    "
   ]
  },
  {
   "cell_type": "code",
   "execution_count": 4,
   "metadata": {},
   "outputs": [],
   "source": [
    "def yieldlines(thefile, offset):\n",
    "    thefile.seek(offset)\n",
    "    line = thefile.readline()\n",
    "    yield line\n"
   ]
  },
  {
   "cell_type": "code",
   "execution_count": 5,
   "metadata": {},
   "outputs": [
    {
     "ename": "KeyboardInterrupt",
     "evalue": "",
     "output_type": "error",
     "traceback": [
      "\u001b[0;31m--------------------------------------------------------------------------\u001b[0m",
      "\u001b[0;31mKeyboardInterrupt\u001b[0m                        Traceback (most recent call last)",
      "\u001b[0;32m<ipython-input-5-35b35f5b4f67>\u001b[0m in \u001b[0;36m<module>\u001b[0;34m()\u001b[0m\n\u001b[1;32m     39\u001b[0m             \u001b[0mtime\u001b[0m\u001b[0;34m.\u001b[0m\u001b[0msleep\u001b[0m\u001b[0;34m(\u001b[0m\u001b[0;36m5\u001b[0m\u001b[0;34m)\u001b[0m\u001b[0;34m\u001b[0m\u001b[0;34m\u001b[0m\u001b[0m\n\u001b[1;32m     40\u001b[0m \u001b[0;34m\u001b[0m\u001b[0m\n\u001b[0;32m---> 41\u001b[0;31m \u001b[0msleeper\u001b[0m\u001b[0;34m(\u001b[0m\u001b[0msites\u001b[0m\u001b[0;34m,\u001b[0m \u001b[0;36m0\u001b[0m\u001b[0;34m,\u001b[0m \u001b[0;36m335\u001b[0m\u001b[0;34m)\u001b[0m\u001b[0;34m\u001b[0m\u001b[0;34m\u001b[0m\u001b[0m\n\u001b[0m",
      "\u001b[0;32m<ipython-input-5-35b35f5b4f67>\u001b[0m in \u001b[0;36msleeper\u001b[0;34m(sites, startSiteIndex, endSiteIndex)\u001b[0m\n\u001b[1;32m     37\u001b[0m                 \u001b[0mcounter_file\u001b[0m\u001b[0;34m.\u001b[0m\u001b[0mclose\u001b[0m\u001b[0;34m(\u001b[0m\u001b[0;34m)\u001b[0m\u001b[0;34m\u001b[0m\u001b[0;34m\u001b[0m\u001b[0m\n\u001b[1;32m     38\u001b[0m \u001b[0;31m#                 get data every 5 seconds\u001b[0m\u001b[0;34m\u001b[0m\u001b[0;34m\u001b[0m\u001b[0;34m\u001b[0m\u001b[0m\n\u001b[0;32m---> 39\u001b[0;31m             \u001b[0mtime\u001b[0m\u001b[0;34m.\u001b[0m\u001b[0msleep\u001b[0m\u001b[0;34m(\u001b[0m\u001b[0;36m5\u001b[0m\u001b[0;34m)\u001b[0m\u001b[0;34m\u001b[0m\u001b[0;34m\u001b[0m\u001b[0m\n\u001b[0m\u001b[1;32m     40\u001b[0m \u001b[0;34m\u001b[0m\u001b[0m\n\u001b[1;32m     41\u001b[0m \u001b[0msleeper\u001b[0m\u001b[0;34m(\u001b[0m\u001b[0msites\u001b[0m\u001b[0;34m,\u001b[0m \u001b[0;36m0\u001b[0m\u001b[0;34m,\u001b[0m \u001b[0;36m335\u001b[0m\u001b[0;34m)\u001b[0m\u001b[0;34m\u001b[0m\u001b[0;34m\u001b[0m\u001b[0m\n",
      "\u001b[0;31mKeyboardInterrupt\u001b[0m: "
     ]
    }
   ],
   "source": [
    "import threading\n",
    "import time\n",
    "import string\n",
    "import random\n",
    "\n",
    "\n",
    "def sleeper(sites, startSiteIndex, endSiteIndex):\n",
    "    with open('./per-vehicle-records-2020-01-31.csv') as f:\n",
    "        key_list = list(sites.keys())\n",
    "        while True:\n",
    "            random_text = ''.join(random.choices(string.ascii_uppercase + string.digits, k=9))\n",
    "            for index in range (startSiteIndex, endSiteIndex):\n",
    "                cosit = key_list[index]\n",
    "#                 ignoring test site\n",
    "                if int(cosit) == 997:\n",
    "                    continue\n",
    "                counter_file =  open(\"./streams/countdata{}_{}.txt\".format(cosit, random_text),'w')\n",
    "                lines = \"\"\n",
    "                if sites[cosit]['records'] == 0:\n",
    "                    continue\n",
    "                if len(sites[cosit]['records']) >= 10:\n",
    "#                     if length of remaining records is greater than or equal to 10, get 10 records\n",
    "#                     by looping 10 times\n",
    "                    for i in range(0,10):\n",
    "#                    poping the records, so that record offset is taken out from remaining records list \n",
    "#                     and also value is returned to yeild line from offset\n",
    "                        line = next(yieldlines(f, sites[cosit]['records'].pop(0)))\n",
    "                        lines = lines + line\n",
    "\n",
    "                else:\n",
    "#                     else get all remaining records\n",
    "                    for i in range(0,len(sites[cosit]['records'])):\n",
    "                        line = next(yieldlines(f, sites[cosit]['records'].pop(0)))\n",
    "                        lines = lines + line\n",
    "\n",
    "                counter_file.write(lines)\n",
    "                counter_file.close()\n",
    "#                 get data every 5 seconds\n",
    "            time.sleep(5)\n",
    "        \n",
    "sleeper(sites, 0, 335)\n"
   ]
  },
  {
   "cell_type": "code",
   "execution_count": null,
   "metadata": {},
   "outputs": [],
   "source": []
  },
  {
   "cell_type": "code",
   "execution_count": null,
   "metadata": {},
   "outputs": [],
   "source": []
  },
  {
   "cell_type": "code",
   "execution_count": null,
   "metadata": {},
   "outputs": [],
   "source": []
  },
  {
   "cell_type": "code",
   "execution_count": null,
   "metadata": {},
   "outputs": [],
   "source": []
  },
  {
   "cell_type": "code",
   "execution_count": null,
   "metadata": {},
   "outputs": [],
   "source": []
  },
  {
   "cell_type": "code",
   "execution_count": null,
   "metadata": {},
   "outputs": [],
   "source": []
  },
  {
   "cell_type": "code",
   "execution_count": null,
   "metadata": {},
   "outputs": [],
   "source": []
  }
 ],
 "metadata": {
  "kernelspec": {
   "display_name": "Python 3",
   "language": "python",
   "name": "python3"
  },
  "language_info": {
   "codemirror_mode": {
    "name": "ipython",
    "version": 3
   },
   "file_extension": ".py",
   "mimetype": "text/x-python",
   "name": "python",
   "nbconvert_exporter": "python",
   "pygments_lexer": "ipython3",
   "version": "3.6.9"
  }
 },
 "nbformat": 4,
 "nbformat_minor": 2
}
